{
  "nbformat": 4,
  "nbformat_minor": 0,
  "metadata": {
    "colab": {
      "provenance": []
    },
    "kernelspec": {
      "name": "python3",
      "display_name": "Python 3"
    },
    "language_info": {
      "name": "python"
    }
  },
  "cells": [
    {
      "cell_type": "code",
      "execution_count": 3,
      "metadata": {
        "id": "qSEFttnwx9xK"
      },
      "outputs": [],
      "source": [
        "# Thư viện sử dụng đúng theo tài liệu\n",
        "import numpy as np\n",
        "import imageio.v2 as iio\n",
        "import matplotlib.pyplot as plt\n",
        "import colorsys\n",
        "import scipy.ndimage as sn"
      ]
    },
    {
      "cell_type": "code",
      "source": [
        "#BÀI 1: Lưu ảnh với 3 màu khác nhau (R, G, B)\n",
        "img = iio.imread('bird.png')  # dùng 1 ảnh ví dụ\n",
        "\n",
        "red = np.zeros_like(img)\n",
        "red[:, :, 0] = img[:, :, 0]\n",
        "iio.imwrite('bai1_red.png', red)\n",
        "\n",
        "green = np.zeros_like(img)\n",
        "green[:, :, 1] = img[:, :, 1]\n",
        "iio.imwrite('bai1_green.png', green)\n",
        "\n",
        "blue = np.zeros_like(img)\n",
        "blue[:, :, 2] = img[:, :, 2]\n",
        "iio.imwrite('bai1_blue.png', blue)"
      ],
      "metadata": {
        "id": "iWQPp-r0ybMf"
      },
      "execution_count": 4,
      "outputs": []
    },
    {
      "cell_type": "code",
      "source": [
        "#BÀI 2: Hoán đổi giá trị các kênh màu (R->G, G->B, B->R)\n",
        "swapped = np.zeros_like(img)\n",
        "swapped[:, :, 0] = img[:, :, 2]  # B → R\n",
        "swapped[:, :, 1] = img[:, :, 0]  # R → G\n",
        "swapped[:, :, 2] = img[:, :, 1]  # G → B\n",
        "iio.imwrite('bai2_swapped.png', swapped)"
      ],
      "metadata": {
        "id": "XvPZzayNyeJV"
      },
      "execution_count": 5,
      "outputs": []
    },
    {
      "cell_type": "code",
      "source": [
        "#BÀI 3: Chuyển ảnh sang hệ màu HSV và lưu 3 ảnh với H, S, V\n",
        "def rgb_to_hsv_img(rgb_img):\n",
        "    r = rgb_img[:, :, 0] / 255.0\n",
        "    g = rgb_img[:, :, 1] / 255.0\n",
        "    b = rgb_img[:, :, 2] / 255.0\n",
        "    hsv = np.vectorize(colorsys.rgb_to_hsv)(r, g, b)\n",
        "    return np.stack(hsv, axis=-1)\n",
        "\n",
        "hsv_img = rgb_to_hsv_img(img)\n",
        "iio.imwrite('bai3_H.png', (hsv_img[:, :, 0] * 255).astype(np.uint8))\n",
        "iio.imwrite('bai3_S.png', (hsv_img[:, :, 1] * 255).astype(np.uint8))\n",
        "iio.imwrite('bai3_V.png', (hsv_img[:, :, 2] * 255).astype(np.uint8))"
      ],
      "metadata": {
        "id": "KU8HC4oGyf_x"
      },
      "execution_count": 6,
      "outputs": []
    },
    {
      "cell_type": "code",
      "source": [
        "#BÀI 4: Chuyển HSV, thay đổi H và V, lưu lại\n",
        "h = hsv_img[:, :, 0] / 3\n",
        "s = hsv_img[:, :, 1]\n",
        "v = hsv_img[:, :, 2] * 0.75\n",
        "\n",
        "rgb_new = np.vectorize(colorsys.hsv_to_rgb)(h, s, v)\n",
        "rgb_new = np.stack(rgb_new, axis=-1)\n",
        "iio.imwrite('bai4_HV_changed.png', (rgb_new * 255).astype(np.uint8))\n"
      ],
      "metadata": {
        "id": "5Giln7U8yn51"
      },
      "execution_count": 7,
      "outputs": []
    },
    {
      "cell_type": "code",
      "source": [
        "#BÀI 5: Sử dụng mean filter (5x5) để lọc ảnh xám\n",
        "gray = iio.imread('bird.png', mode='L')\n",
        "k = np.ones((5, 5)) / 25  # Kernel 5x5\n",
        "mean_filtered = sn.convolve(gray, k).astype(np.uint8)\n",
        "iio.imwrite('bai5_mean_filter.png', mean_filtered)"
      ],
      "metadata": {
        "id": "XfP4MoF0ypm5"
      },
      "execution_count": 9,
      "outputs": []
    }
  ]
}