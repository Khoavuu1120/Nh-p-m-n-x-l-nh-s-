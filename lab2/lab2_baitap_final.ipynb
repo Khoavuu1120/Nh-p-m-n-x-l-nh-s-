{
 "cells": [
  {
   "cell_type": "markdown",
   "id": "f7ecd014",
   "metadata": {},
   "source": [
    "# Lab 2 - Xử lý ảnh số\n",
    "**Thực hiện đúng theo yêu cầu bài tập gồm 4 câu:**"
   ]
  },
  {
   "cell_type": "code",
   "execution_count": null,
   "id": "5649e176",
   "metadata": {},
   "outputs": [],
   "source": [
    "from PIL import Image\n",
    "import numpy as np\n",
    "import matplotlib.pyplot as plt\n",
    "from scipy import ndimage, fft\n",
    "import math\n",
    "import os\n",
    "import random"
   ]
  },
  {
   "cell_type": "markdown",
   "id": "3f84e01f",
   "metadata": {},
   "source": [
    "## Câu 1: Menu xử lý điểm ảnh (I, G, L, H, C)"
   ]
  },
  {
   "cell_type": "code",
   "execution_count": null,
   "id": "62d2f55f",
   "metadata": {},
   "outputs": [],
   "source": [
    "\n",
    "def image_inverse(img): return 255 - img\n",
    "def gamma_correction(img, gamma=0.5):\n",
    "    b = img.astype(float)\n",
    "    b /= b.max()\n",
    "    return (np.exp(np.log(b) * gamma) * 255).astype(np.uint8)\n",
    "def log_transform(img):\n",
    "    b = img.astype(float)\n",
    "    return ((128 * np.log(1 + b)) / np.log(1 + b.max())).astype(np.uint8)\n",
    "def histogram_equalization(img):\n",
    "    hist, _ = np.histogram(img.flatten(), 256, [0,255])\n",
    "    cdf = hist.cumsum()\n",
    "    cdf_m = np.ma.masked_equal(cdf, 0)\n",
    "    cdf_m = (cdf_m - cdf_m.min()) * 255 / (cdf_m.max() - cdf_m.min())\n",
    "    return np.ma.filled(cdf_m, 0).astype('uint8')[img]\n",
    "def contrast_stretching(img):\n",
    "    return ((img - img.min()) * 255 / (img.max() - img.min())).astype(np.uint8)\n",
    "\n",
    "option = input(\"Nhập I, G, L, H, C: \").upper()\n",
    "folder = \"exercise\"\n",
    "for filename in os.listdir(folder):\n",
    "    path = os.path.join(folder, filename)\n",
    "    gray = np.asarray(Image.open(path).convert(\"L\"))\n",
    "    if option == \"I\": out = image_inverse(gray)\n",
    "    elif option == \"G\": out = gamma_correction(gray)\n",
    "    elif option == \"L\": out = log_transform(gray)\n",
    "    elif option == \"H\": out = histogram_equalization(gray)\n",
    "    elif option == \"C\": out = contrast_stretching(gray)\n",
    "    else: continue\n",
    "    plt.imshow(out, cmap='gray'); plt.title(filename); plt.show()\n"
   ]
  },
  {
   "cell_type": "markdown",
   "id": "de0267da",
   "metadata": {},
   "source": [
    "## Câu 2: Menu xử lý tần số (F, L, H)"
   ]
  },
  {
   "cell_type": "code",
   "execution_count": null,
   "id": "7eaf3873",
   "metadata": {},
   "outputs": [],
   "source": [
    "\n",
    "def fast_fourier(img):\n",
    "    return np.abs(fft.fftshift(fft.fft2(img)))\n",
    "\n",
    "def butterworth_lowpass(img, d0=30, n=2):\n",
    "    M, N = img.shape\n",
    "    u0, v0 = M//2, N//2\n",
    "    H = np.zeros((M, N))\n",
    "    for u in range(M):\n",
    "        for v in range(N):\n",
    "            D = np.sqrt((u - u0)**2 + (v - v0)**2)\n",
    "            H[u, v] = 1 / (1 + (D/d0)**(2*n))\n",
    "    F = fft.fftshift(fft.fft2(img))\n",
    "    G = F * H\n",
    "    return np.abs(fft.ifft2(fft.ifftshift(G)))\n",
    "\n",
    "def butterworth_highpass(img, d0=30, n=2):\n",
    "    M, N = img.shape\n",
    "    u0, v0 = M//2, N//2\n",
    "    H = np.zeros((M, N))\n",
    "    for u in range(M):\n",
    "        for v in range(N):\n",
    "            D = np.sqrt((u - u0)**2 + (v - v0)**2)\n",
    "            H[u, v] = 1 / (1 + (d0/D)**(2*n)) if D != 0 else 0\n",
    "    F = fft.fftshift(fft.fft2(img))\n",
    "    G = F * H\n",
    "    return np.abs(fft.ifft2(fft.ifftshift(G)))\n",
    "\n",
    "option = input(\"Nhập F, L, H: \").upper()\n",
    "folder = \"exercise\"\n",
    "for filename in os.listdir(folder):\n",
    "    path = os.path.join(folder, filename)\n",
    "    gray = np.asarray(Image.open(path).convert(\"L\"))\n",
    "    if option == \"F\": out = fast_fourier(gray)\n",
    "    elif option == \"L\": out = butterworth_lowpass(gray)\n",
    "    elif option == \"H\": out = butterworth_highpass(gray)\n",
    "    else: continue\n",
    "    plt.imshow(out, cmap='gray'); plt.title(filename); plt.show()\n"
   ]
  },
  {
   "cell_type": "markdown",
   "id": "000cc0ec",
   "metadata": {},
   "source": [
    "## Câu 3: Ngẫu nhiên 1 phép từ Câu 1 áp dụng lên từng kênh RGB"
   ]
  },
  {
   "cell_type": "code",
   "execution_count": null,
   "id": "9cafdd18",
   "metadata": {},
   "outputs": [],
   "source": [
    "\n",
    "ops = [image_inverse, gamma_correction, log_transform, histogram_equalization, contrast_stretching]\n",
    "folder = \"exercise\"\n",
    "for filename in os.listdir(folder):\n",
    "    path = os.path.join(folder, filename)\n",
    "    rgb = np.asarray(Image.open(path).convert(\"RGB\"))\n",
    "    out = rgb.copy()\n",
    "    for ch in range(3):\n",
    "        func = random.choice(ops)\n",
    "        out[..., ch] = func(rgb[..., ch])\n",
    "    plt.imshow(out); plt.title(filename); plt.show()\n"
   ]
  },
  {
   "cell_type": "markdown",
   "id": "c11fc9ef",
   "metadata": {},
   "source": [
    "## Câu 4: Ngẫu nhiên lọc Butterworth + Max/Min Filter"
   ]
  },
  {
   "cell_type": "code",
   "execution_count": null,
   "id": "780bbbc3",
   "metadata": {},
   "outputs": [],
   "source": [
    "\n",
    "folder = \"exercise\"\n",
    "for filename in os.listdir(folder):\n",
    "    path = os.path.join(folder, filename)\n",
    "    rgb = np.asarray(Image.open(path).convert(\"RGB\"))\n",
    "    out = rgb.copy()\n",
    "    for ch in range(3):\n",
    "        g = rgb[..., ch]\n",
    "        if random.choice([\"low\", \"high\"]) == \"low\":\n",
    "            out[..., ch] = np.minimum(g, butterworth_lowpass(g)).astype(np.uint8)\n",
    "        else:\n",
    "            out[..., ch] = np.maximum(g, butterworth_highpass(g)).astype(np.uint8)\n",
    "    plt.imshow(out); plt.title(filename); plt.show()\n"
   ]
  }
 ],
 "metadata": {},
 "nbformat": 4,
 "nbformat_minor": 5
}
